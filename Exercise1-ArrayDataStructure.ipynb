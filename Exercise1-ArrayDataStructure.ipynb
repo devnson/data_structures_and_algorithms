{
 "cells": [
  {
   "cell_type": "markdown",
   "id": "eddac993",
   "metadata": {},
   "source": [
    "## Exercise: Array DataStructure\n",
    "\n",
    "1. Let us say your expense for every month are listed below,\n",
    "\n",
    "    - January - 2200\n",
    "    - February - 2350\n",
    "    - March - 2600\n",
    "    - April - 2130\n",
    "    - May - 2190\n",
    "    \n",
    "Create a list to store these monthly expenses and using that find out.\n",
    "\n",
    "\n",
    "`1. In feb, how many dollars you spent extra compare to January?\n",
    " 2. Find out your total expense in first quarter (first three months) of the year.\n",
    " 3. Find out if you spent exactly 2000 dollars in any month.\n",
    " 4. June month just finished and your expense is 1980 dollar. And this item to our monthly expense list\n",
    " 5. Your returned an item that you bought in a month of April and got a refund of 200$. Make a correction to your monthly expense list based on this`"
   ]
  },
  {
   "cell_type": "code",
   "execution_count": 35,
   "id": "83d71a37",
   "metadata": {},
   "outputs": [],
   "source": [
    "# Ans\n",
    "\n",
    "\n",
    "# 0 - Jan, 1- Feb, 2- March, 3- April, 4-May\n",
    "exp = [2200, 2350, 2600, 2130, 2190]\n"
   ]
  },
  {
   "cell_type": "markdown",
   "id": "fdc8d362",
   "metadata": {},
   "source": [
    "# 1."
   ]
  },
  {
   "cell_type": "code",
   "execution_count": 36,
   "id": "1afa82af",
   "metadata": {},
   "outputs": [
    {
     "name": "stdout",
     "output_type": "stream",
     "text": [
      "In feb, I spent extra $150 of dollars\n"
     ]
    }
   ],
   "source": [
    "# 1. In feb, how many dollars you spend extra compare to Januray?\n",
    "\n",
    "extra = exp[1]-exp[0]\n",
    "\n",
    "print(f\"In feb, I spent extra ${extra} of dollars\")"
   ]
  },
  {
   "cell_type": "markdown",
   "id": "10a8458f",
   "metadata": {},
   "source": [
    "# 2."
   ]
  },
  {
   "cell_type": "code",
   "execution_count": 37,
   "id": "2ca620a7",
   "metadata": {},
   "outputs": [
    {
     "name": "stdout",
     "output_type": "stream",
     "text": [
      "Total expense in first quarter is $7150\n"
     ]
    }
   ],
   "source": [
    "# 2. Find out your total expense in first quarter (first three months) \n",
    "# of the year\n",
    "\n",
    "total = 0\n",
    "for i in range(3):\n",
    "    total += exp[i]\n",
    "\n",
    "print(f\"Total expense in first quarter is ${total}\")"
   ]
  },
  {
   "cell_type": "markdown",
   "id": "7e312d74",
   "metadata": {},
   "source": [
    "# 3."
   ]
  },
  {
   "cell_type": "code",
   "execution_count": 38,
   "id": "97bccb65",
   "metadata": {},
   "outputs": [
    {
     "name": "stdout",
     "output_type": "stream",
     "text": [
      "No such spendings\n"
     ]
    }
   ],
   "source": [
    "# 3. Find out if you spent exactly 2000 dollars in any month\n",
    "\n",
    "spent = 2000\n",
    "\n",
    "for i in exp:\n",
    "    if i == spent:\n",
    "        print(f\"Yes $2000 spent on {i}\")\n",
    "        break\n",
    "    else:\n",
    "        print(f\"No such spendings\")\n",
    "        break"
   ]
  },
  {
   "cell_type": "code",
   "execution_count": 39,
   "id": "7c6ff500",
   "metadata": {},
   "outputs": [
    {
     "name": "stdout",
     "output_type": "stream",
     "text": [
      "Did I spent 2000$ in any month? False\n"
     ]
    }
   ],
   "source": [
    "print(\"Did I spent 2000$ in any month?\", 2000 in exp)"
   ]
  },
  {
   "cell_type": "markdown",
   "id": "8dd8271e",
   "metadata": {},
   "source": [
    "# 4."
   ]
  },
  {
   "cell_type": "code",
   "execution_count": 27,
   "id": "e4574850",
   "metadata": {},
   "outputs": [],
   "source": [
    "# 4. June month just finished and your expense is 1980 dollar. \n",
    "# Add this item to our month\n",
    "\n",
    "exp.append(1980)"
   ]
  },
  {
   "cell_type": "code",
   "execution_count": 40,
   "id": "c602a41b",
   "metadata": {},
   "outputs": [
    {
     "name": "stdout",
     "output_type": "stream",
     "text": [
      "Expenses at the end of June: [2200, 2350, 2600, 2130, 2190]\n"
     ]
    }
   ],
   "source": [
    "print(\"Expenses at the end of June:\",exp)"
   ]
  },
  {
   "cell_type": "markdown",
   "id": "49e41bcc",
   "metadata": {},
   "source": [
    "# 5."
   ]
  },
  {
   "cell_type": "code",
   "execution_count": 30,
   "id": "6ec05f42",
   "metadata": {},
   "outputs": [],
   "source": [
    "# 5. Your returned an item that your bought in a month of April and\n",
    "# got a refund of 200$. Make a correction to your montly expense list\n",
    "# based on this\n",
    "\n",
    "\n",
    "# April is 3\n",
    "\n",
    "refund = 200\n",
    "\n",
    "exp[3] = exp[3] - refund"
   ]
  },
  {
   "cell_type": "code",
   "execution_count": 31,
   "id": "cdefb953",
   "metadata": {},
   "outputs": [
    {
     "name": "stdout",
     "output_type": "stream",
     "text": [
      "After refund our total spendings on April is 1930\n"
     ]
    }
   ],
   "source": [
    "print(f\"After refund our total spendings on April is {exp[3]}\")"
   ]
  },
  {
   "cell_type": "markdown",
   "id": "abeb3aad",
   "metadata": {},
   "source": [
    "# Exercise 2. \n",
    "\n",
    "You have a list of your favourite marvel super heros.\n",
    "\n",
    "`heros = ['spider man','thor','hulk','iron man','captain america']`\n",
    "\n",
    "\n",
    "Using this find out:\n",
    "\n",
    "1. Length of the list\n",
    "2. Add 'black panther' at the end of this list\n",
    "3. You realize that you need to add 'black panther' after 'hulk',\n",
    "   so remove it from the list first and then add it after 'hulk'\n",
    "4. Now you don't like thor and hulk because they get angry easily :)\n",
    "   So you want to remove thor and hulk from list and replace them with doctor strange (because he is cool).\n",
    "   Do that with one line of code.\n",
    "5. Sort the heros list in alphabetical order (Hint. Use dir() functions to list down all functions available in list)"
   ]
  },
  {
   "cell_type": "code",
   "execution_count": 26,
   "id": "97fc489a",
   "metadata": {},
   "outputs": [],
   "source": [
    "## Ans\n",
    "\n",
    "heros = ['spider man','thor','hulk','iron man','captain america']"
   ]
  },
  {
   "cell_type": "markdown",
   "id": "31882fcb",
   "metadata": {},
   "source": [
    "## 1"
   ]
  },
  {
   "cell_type": "code",
   "execution_count": 27,
   "id": "31d62c06",
   "metadata": {},
   "outputs": [
    {
     "data": {
      "text/plain": [
       "5"
      ]
     },
     "execution_count": 27,
     "metadata": {},
     "output_type": "execute_result"
    }
   ],
   "source": [
    "# 1. Length of the list\n",
    "\n",
    "len(heros)"
   ]
  },
  {
   "cell_type": "markdown",
   "id": "56edf70b",
   "metadata": {},
   "source": [
    "## 2"
   ]
  },
  {
   "cell_type": "code",
   "execution_count": 28,
   "id": "b672c39d",
   "metadata": {},
   "outputs": [],
   "source": [
    "# 2. Add 'black panther' at the end of the list\n",
    "\n",
    "heros.append('black panther')"
   ]
  },
  {
   "cell_type": "markdown",
   "id": "1130508a",
   "metadata": {},
   "source": [
    "## 3"
   ]
  },
  {
   "cell_type": "code",
   "execution_count": 29,
   "id": "5f4fbf47",
   "metadata": {},
   "outputs": [],
   "source": [
    "# 3. You realize that you need to add 'black panther' after 'hulk'\n",
    "# so remove it from the list first and then add it after 'hulk'\n",
    "\n",
    "heros.remove('black panther')\n",
    "heros.insert(3,'black panther')"
   ]
  },
  {
   "cell_type": "code",
   "execution_count": 30,
   "id": "3c3a984b",
   "metadata": {},
   "outputs": [
    {
     "data": {
      "text/plain": [
       "['spider man', 'thor', 'hulk', 'black panther', 'iron man', 'captain america']"
      ]
     },
     "execution_count": 30,
     "metadata": {},
     "output_type": "execute_result"
    }
   ],
   "source": [
    "heros"
   ]
  },
  {
   "cell_type": "markdown",
   "id": "7250aa6d",
   "metadata": {},
   "source": [
    "## 4."
   ]
  },
  {
   "cell_type": "code",
   "execution_count": 31,
   "id": "a8139b52",
   "metadata": {},
   "outputs": [
    {
     "data": {
      "text/plain": [
       "['spider man',\n",
       " 'doctor strange',\n",
       " 'black panther',\n",
       " 'iron man',\n",
       " 'captain america']"
      ]
     },
     "execution_count": 31,
     "metadata": {},
     "output_type": "execute_result"
    }
   ],
   "source": [
    "# 4. Now you don't like thor and hulk because they get angry easilyt\n",
    "# So you want to remove thor and hulk from list and replace them with \n",
    "# doctor strange (because he is cool)\n",
    "\n",
    "heros[1:3] = ['doctor strange']\n",
    "heros"
   ]
  },
  {
   "cell_type": "markdown",
   "id": "b907d01a",
   "metadata": {},
   "source": [
    "# 5."
   ]
  },
  {
   "cell_type": "code",
   "execution_count": 32,
   "id": "ff2427f4",
   "metadata": {},
   "outputs": [
    {
     "data": {
      "text/plain": [
       "['black panther',\n",
       " 'captain america',\n",
       " 'doctor strange',\n",
       " 'iron man',\n",
       " 'spider man']"
      ]
     },
     "execution_count": 32,
     "metadata": {},
     "output_type": "execute_result"
    }
   ],
   "source": [
    "# Sor the list in alphabetical order\n",
    "\n",
    "heros.sort()\n",
    "heros"
   ]
  },
  {
   "cell_type": "markdown",
   "id": "7c19a160",
   "metadata": {},
   "source": [
    "# Exercise 3"
   ]
  },
  {
   "cell_type": "markdown",
   "id": "1a6667e6",
   "metadata": {},
   "source": [
    "Create a list of all odd numbers between 1 and a max number. Max number is something you need to take from a user using input() function."
   ]
  },
  {
   "cell_type": "code",
   "execution_count": 33,
   "id": "fa509b43",
   "metadata": {},
   "outputs": [
    {
     "name": "stdout",
     "output_type": "stream",
     "text": [
      "Enter max number:100\n",
      "Odd numbers: [1, 3, 5, 7, 9, 11, 13, 15, 17, 19, 21, 23, 25, 27, 29, 31, 33, 35, 37, 39, 41, 43, 45, 47, 49, 51, 53, 55, 57, 59, 61, 63, 65, 67, 69, 71, 73, 75, 77, 79, 81, 83, 85, 87, 89, 91, 93, 95, 97, 99]\n"
     ]
    }
   ],
   "source": [
    "max = int(input(\"Enter max number:\"))\n",
    "\n",
    "odd_numbers = []\n",
    "\n",
    "for i in range(max):\n",
    "    if i%2 == 1:\n",
    "        odd_numbers.append(i)\n",
    "\n",
    "print(\"Odd numbers:\", odd_numbers)"
   ]
  },
  {
   "cell_type": "code",
   "execution_count": null,
   "id": "45061bfd",
   "metadata": {},
   "outputs": [],
   "source": []
  }
 ],
 "metadata": {
  "kernelspec": {
   "display_name": "Python 3",
   "language": "python",
   "name": "python3"
  },
  "language_info": {
   "codemirror_mode": {
    "name": "ipython",
    "version": 3
   },
   "file_extension": ".py",
   "mimetype": "text/x-python",
   "name": "python",
   "nbconvert_exporter": "python",
   "pygments_lexer": "ipython3",
   "version": "3.8.5"
  }
 },
 "nbformat": 4,
 "nbformat_minor": 5
}
